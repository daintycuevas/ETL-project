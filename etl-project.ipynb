{
 "cells": [
  {
   "cell_type": "code",
   "execution_count": null,
   "metadata": {},
   "outputs": [],
   "source": [
    "#import dependencies\n",
    "import pandas as pd\n",
    "from bs4 import BeautifulSoup as bs\n",
    "import requests\n",
    "import pymongo \n",
    "from sqlalchemy import create_engine \n",
    "import numpy as np\n",
    "from matplotlib import pyplot as plt\n",
    "# import scipy.stats as st\n",
    "# conn = 'mongodb://localhost:27017'\n",
    "# client = pymongo.MongoClient(conn)"
   ]
  },
  {
   "cell_type": "code",
   "execution_count": null,
   "metadata": {},
   "outputs": [],
   "source": [
    "filepath = 'resources/alcoholSubstanceAbuse.csv'"
   ]
  },
  {
   "cell_type": "code",
   "execution_count": null,
   "metadata": {
    "scrolled": true
   },
   "outputs": [],
   "source": [
    "df = pd.read_csv(filepath)\n",
    "df = df.rename(columns={'Location':'Country','Dim1':'Sex','First Tooltip':'Total alcohol per capita'})\n",
    "df = df.drop(columns=['Indicator'])\n",
    "# df.groupby(['Country', 'Sex'])\n",
    "df.head(20)"
   ]
  },
  {
   "cell_type": "code",
   "execution_count": null,
   "metadata": {},
   "outputs": [],
   "source": [
    "# idx = pd.IndexSlice \n",
    "# df = df.loc[idx[:,[2018],['Both sexes'],:],:]\n",
    "\n",
    "df = df[(df['Period']==2018) & (df['Sex']== 'Both sexes')]\n",
    "df"
   ]
  },
  {
   "cell_type": "code",
   "execution_count": null,
   "metadata": {},
   "outputs": [],
   "source": [
    "url = 'https://en.wikipedia.org/wiki/List_of_countries_by_GDP_(nominal)_per_capita'\n",
    "raw = pd.read_html(url)"
   ]
  },
  {
   "cell_type": "code",
   "execution_count": null,
   "metadata": {
    "scrolled": false
   },
   "outputs": [],
   "source": [
    "df_percapita = raw[0]\n",
    "df_percapita\n",
    "df_percapita = df_percapita.drop([0,1,2])\n",
    "df_percapita = df_percapita.rename(columns={0:'Rank',1:'Country', 2:'GDP Per Capita'})\n",
    "df_percapita.reset_index(drop=True, inplace=True)\n",
    "# df_percapita.drop(indexNames , inplace=True)\n",
    "\n",
    "# Let’s delete all rows for which column ‘Age’ has value 30 i.e.\n",
    "# Get names of indexes for which column Age has value 30\n",
    "indexNames = df_percapita[df_percapita['GDP Per Capita'] == 'US$'].index\n",
    "# indexNames = df_percapita[df_percapita['GDP Per Capita'] == 'nan'].index == this line does not work\n",
    "\n",
    "# Delete these row indexes from dataFrame\n",
    "df_percapita.drop(indexNames , inplace=True)\n",
    "\n",
    "df_percapita.dropna(subset=['GDP Per Capita'], inplace=True)\n",
    "# df_percapita = df_percapita.drop(df_percapita.loc[df_percapita['GDP Per Capita']=='US$'], inplace=True)\n",
    "# df_percapita = df_percapita.groupby('Country')['GDP Per Capita'].mean()\n",
    "# df_percapita = df_percapita.mean('GDP Per Capita')\n",
    "# groupby country and avg per capita\n",
    "# df_percapita['GDP Per Capita'].dtypes\n",
    "# use df[\"col\"]. astype(str). astype(int)\n",
    "df_percapita[\"GDP Per Capita\"] = df_percapita[\"GDP Per Capita\"].astype(str).astype(int)\n",
    "df_percapita = df_percapita.groupby('Country')['GDP Per Capita'].mean()\n",
    "df_percapita"
   ]
  },
  {
   "cell_type": "code",
   "execution_count": null,
   "metadata": {},
   "outputs": [],
   "source": [
    "# df_percapita['gdp_per_capita'].unique() check for values"
   ]
  },
  {
   "cell_type": "code",
   "execution_count": null,
   "metadata": {},
   "outputs": [],
   "source": [
    "# merge dfs based on 'country'\n",
    "new_df = pd.merge(df, df_percapita, on='Country')\n",
    "# new_df = df_percapita.groupby('Country')['GDP Per Capita'].mean()\n",
    "new_df = new_df.rename(columns={'Country':'country', 'Period':'period', 'Sex':'sex', 'Total alcohol per capita':'total_alcohol_per_capita','GDP Per Capita':'gdp_per_capita'})\n",
    "new_df"
   ]
  },
  {
   "cell_type": "code",
   "execution_count": null,
   "metadata": {},
   "outputs": [],
   "source": [
    "rds_connection_string = \"postgres:postgres@localhost:5432/etl_db\"\n",
    "engine = create_engine(f'postgresql://{rds_connection_string}')"
   ]
  },
  {
   "cell_type": "code",
   "execution_count": null,
   "metadata": {},
   "outputs": [],
   "source": [
    "engine.table_names()"
   ]
  },
  {
   "cell_type": "code",
   "execution_count": null,
   "metadata": {},
   "outputs": [],
   "source": [
    "# engine = create_engine(f'postgresql://{rds_connection_string}')\n",
    "new_df.to_sql(name=\"gdp_alcohol\", con=engine, if_exists='append', index=False)"
   ]
  },
  {
   "cell_type": "code",
   "execution_count": null,
   "metadata": {
    "scrolled": false
   },
   "outputs": [],
   "source": [
    "# x=new_df['gdp_per_capita']\n",
    "# y=new_df['total_alcohol_per_capita']\n",
    "# correlation = st.pearsonr(x,y)\n",
    "# correlation\n",
    "# # plt.show()"
   ]
  },
  {
   "cell_type": "code",
   "execution_count": null,
   "metadata": {},
   "outputs": [],
   "source": [
    "# seaborn heatmap // group data //  gdp < >  "
   ]
  }
 ],
 "metadata": {
  "kernelspec": {
   "display_name": "Python 3",
   "language": "python",
   "name": "python3"
  },
  "language_info": {
   "codemirror_mode": {
    "name": "ipython",
    "version": 3
   },
   "file_extension": ".py",
   "mimetype": "text/x-python",
   "name": "python",
   "nbconvert_exporter": "python",
   "pygments_lexer": "ipython3",
   "version": "3.8.3"
  }
 },
 "nbformat": 4,
 "nbformat_minor": 4
}
